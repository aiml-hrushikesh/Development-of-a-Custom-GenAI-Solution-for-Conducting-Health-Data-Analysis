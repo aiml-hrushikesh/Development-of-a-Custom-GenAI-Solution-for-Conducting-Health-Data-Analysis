{
 "cells": [
  {
   "cell_type": "markdown",
   "id": "7853fd19",
   "metadata": {},
   "source": [
    "# 🩺 Data Audit & Exploratory Data Analysis"
   ]
  },
  {
   "cell_type": "code",
   "execution_count": null,
   "id": "eb033373",
   "metadata": {},
   "outputs": [],
   "source": [
    "import pandas as pd\n",
    "import matplotlib.pyplot as plt\n",
    "import seaborn as sns\n",
    "\n",
    "# Display settings\n",
    "pd.set_option('display.max_columns', None)\n",
    "sns.set(style=\"whitegrid\")\n"
   ]
  },
  {
   "cell_type": "markdown",
   "id": "60bf9dc0",
   "metadata": {},
   "source": [
    "## 🔹 Load Datasets"
   ]
  },
  {
   "cell_type": "code",
   "execution_count": null,
   "id": "89f153d2",
   "metadata": {},
   "outputs": [],
   "source": [
    "# Replace these with your actual file paths\n",
    "df1 = pd.read_csv('../data/health_dataset_1.csv')\n",
    "df2 = pd.read_csv('../data/health_dataset_2.csv')\n",
    "\n",
    "df1.head()\n"
   ]
  },
  {
   "cell_type": "markdown",
   "id": "f38f41e0",
   "metadata": {},
   "source": [
    "## 🔹 Dataset 1 Summary"
   ]
  },
  {
   "cell_type": "code",
   "execution_count": null,
   "id": "7c067cba",
   "metadata": {},
   "outputs": [],
   "source": [
    "df1.describe(include='all')"
   ]
  },
  {
   "cell_type": "code",
   "execution_count": null,
   "id": "2a1580bc",
   "metadata": {},
   "outputs": [],
   "source": [
    "df1.info()"
   ]
  },
  {
   "cell_type": "markdown",
   "id": "a0e6bfbf",
   "metadata": {},
   "source": [
    "## 🔹 Check for Missing Values"
   ]
  },
  {
   "cell_type": "code",
   "execution_count": null,
   "id": "9788050e",
   "metadata": {},
   "outputs": [],
   "source": [
    "df1.isnull().sum()"
   ]
  },
  {
   "cell_type": "markdown",
   "id": "71e6c200",
   "metadata": {},
   "source": [
    "## 🔹 Distribution of Key Health Metrics"
   ]
  },
  {
   "cell_type": "code",
   "execution_count": null,
   "id": "4f749111",
   "metadata": {},
   "outputs": [],
   "source": [
    "fig, axes = plt.subplots(2, 2, figsize=(14,10))\n",
    "sns.histplot(df1['BMI'], bins=30, ax=axes[0,0], kde=True)\n",
    "axes[0,0].set_title('BMI Distribution')\n",
    "sns.histplot(df1['Level_of_Hemoglobin'], bins=30, ax=axes[0,1], kde=True)\n",
    "axes[0,1].set_title('Hemoglobin Level')\n",
    "sns.histplot(df1['Genetic_Pedigree_Coefficient'], bins=30, ax=axes[1,0], kde=True)\n",
    "axes[1,0].set_title('Genetic Pedigree Coefficient')\n",
    "sns.histplot(df1['salt_content_in_the_diet'], bins=30, ax=axes[1,1], kde=True)\n",
    "axes[1,1].set_title('Salt Content in Diet')\n",
    "plt.tight_layout()\n",
    "plt.show()\n"
   ]
  },
  {
   "cell_type": "markdown",
   "id": "2bc1af98",
   "metadata": {},
   "source": [
    "## 🔹 Dataset 2 Aggregation (Physical Activity)"
   ]
  },
  {
   "cell_type": "code",
   "execution_count": null,
   "id": "11d9360f",
   "metadata": {},
   "outputs": [],
   "source": [
    "# Aggregate average steps per person\n",
    "df2_agg = df2.groupby('Patient_Number')['Physical_activity'].agg(['mean', 'std']).reset_index()\n",
    "df2_agg.columns = ['Patient_Number', 'avg_steps', 'std_steps']\n",
    "df2_agg.head()\n"
   ]
  },
  {
   "cell_type": "markdown",
   "id": "40fd8d3e",
   "metadata": {},
   "source": [
    "## 🔹 Merge Datasets Temporarily for Analysis"
   ]
  },
  {
   "cell_type": "code",
   "execution_count": null,
   "id": "7b2d50a9",
   "metadata": {},
   "outputs": [],
   "source": [
    "merged_df = pd.merge(df1, df2_agg, on='Patient_Number', how='left')\n",
    "merged_df.head()\n"
   ]
  },
  {
   "cell_type": "markdown",
   "id": "a28123bd",
   "metadata": {},
   "source": [
    "## 🔹 Correlation Heatmap"
   ]
  },
  {
   "cell_type": "code",
   "execution_count": null,
   "id": "8b2eac32",
   "metadata": {},
   "outputs": [],
   "source": [
    "plt.figure(figsize=(12,8))\n",
    "sns.heatmap(merged_df.corr(numeric_only=True), annot=True, cmap='coolwarm', fmt='.2f')\n",
    "plt.title(\"Correlation Matrix\")\n",
    "plt.show()\n"
   ]
  }
 ],
 "metadata": {},
 "nbformat": 4,
 "nbformat_minor": 5
}
