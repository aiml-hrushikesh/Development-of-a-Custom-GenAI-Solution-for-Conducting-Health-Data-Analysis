{
 "cells": [
  {
   "cell_type": "code",
   "execution_count": null,
   "metadata": {},
   "outputs": [
    {
     "ename": "",
     "evalue": "",
     "output_type": "error",
     "traceback": [
      "\u001b[1;31mRunning cells with 'venv (Python 3.9.13)' requires the ipykernel package.\n",
      "\u001b[1;31mRun the following command to install 'ipykernel' into the Python environment. \n",
      "\u001b[1;31mCommand: 'f:/Test_of_companies/Infogain/Health-Data-Analysis/Development-of-a-Custom-GenAI-Solution-for-Conducting-Health-Data-Analysis/venv/Scripts/python.exe -m pip install ipykernel -U --force-reinstall'"
     ]
    }
   ],
   "source": [
    "import pandas as pd\n",
    "import numpy as np\n",
    "import streamlit as st\n",
    "from sklearn.preprocessing import StandardScaler\n",
    "from sklearn.impute import SimpleImputer\n",
    "import google.generativeai as genai"
   ]
  },
  {
   "cell_type": "code",
   "execution_count": null,
   "metadata": {},
   "outputs": [],
   "source": [
    "# --- Configure Gemini API ---\n",
    "genai.configure(api_key=\"YOUR_GEMINI_API_KEY\")\n",
    "model = genai.GenerativeModel(\"gemini-pro\")\n",
    "\n",
    "# --- Load Datasets ---\n",
    "df_health1 = pd.read_csv(\"health_dataset_1.csv\")\n",
    "df_health2 = pd.read_csv(\"health_dataset_2.csv\")\n",
    "\n",
    "# --- Data Preprocessing ---\n",
    "# Handle missing values\n",
    "imputer = SimpleImputer(strategy='mean')\n",
    "df_health1.iloc[:, 1:] = imputer.fit_transform(df_health1.iloc[:, 1:])\n",
    "df_health2.iloc[:, 2:] = imputer.fit_transform(df_health2.iloc[:, 2:])\n",
    "\n",
    "# --- Join Data Temporarily ---\n",
    "def join_on_the_fly(patient_number):\n",
    "    df1_row = df_health1[df_health1['Patient_Number'] == patient_number]\n",
    "    df2_rows = df_health2[df_health2['Patient_Number'] == patient_number]\n",
    "    if df1_row.empty or df2_rows.empty:\n",
    "        return None\n",
    "    \n",
    "    # Take mean of physical activity over 10 days\n",
    "    steps_mean = df2_rows['Physical_activity'].mean()\n",
    "    df1_row = df1_row.copy()\n",
    "    df1_row['Avg_Physical_Activity'] = steps_mean\n",
    "    return df1_row\n",
    "\n",
    "# --- Generate Insight from Gemini ---\n",
    "def generate_insight_from_patient_data(patient_data_df, user_query):\n",
    "    if patient_data_df is None or user_query.strip() == \"\":\n",
    "        return \"No matching patient data or empty query.\"\n",
    "    \n",
    "    input_text = f\"\"\"\n",
    "    Given the following patient health data:\n",
    "\n",
    "    {patient_data_df.to_string(index=False)}\n",
    "\n",
    "    Answer this query: {user_query}\n",
    "    \"\"\"\n",
    "\n",
    "    response = model.generate_content(input_text)\n",
    "    return response.text\n",
    "\n",
    "# --- Streamlit UI ---\n",
    "st.title(\"GenAI Health Advisor - Gemini Edition\")\n",
    "st.write(\"Enter a patient number to retrieve and analyze their health data.\")\n",
    "\n",
    "patient_number_input = st.number_input(\"Patient Number\", min_value=1, max_value=20000, step=1)\n",
    "user_query = st.text_input(\"Enter your query about the patient's health:\", \"Suggest health improvement tips\")\n",
    "\n",
    "if st.button(\"Get Health Insights\"):\n",
    "    patient_data = join_on_the_fly(patient_number_input)\n",
    "    if patient_data is not None:\n",
    "        st.dataframe(patient_data)\n",
    "        insight = generate_insight_from_patient_data(patient_data, user_query)\n",
    "        st.write(\"\\n### Generated Insight:\")\n",
    "        st.write(insight)\n",
    "    else:\n",
    "        st.error(\"Patient not found in one of the datasets.\")"
   ]
  },
  {
   "cell_type": "code",
   "execution_count": null,
   "metadata": {},
   "outputs": [],
   "source": []
  },
  {
   "cell_type": "code",
   "execution_count": null,
   "metadata": {},
   "outputs": [],
   "source": []
  },
  {
   "cell_type": "code",
   "execution_count": null,
   "metadata": {},
   "outputs": [],
   "source": []
  }
 ],
 "metadata": {
  "kernelspec": {
   "display_name": "venv",
   "language": "python",
   "name": "python3"
  },
  "language_info": {
   "name": "python",
   "version": "3.9.13"
  }
 },
 "nbformat": 4,
 "nbformat_minor": 2
}
